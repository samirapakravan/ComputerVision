{
  "nbformat": 4,
  "nbformat_minor": 0,
  "metadata": {
    "colab": {
      "provenance": [],
      "include_colab_link": true
    },
    "kernelspec": {
      "name": "python3",
      "display_name": "Python 3"
    },
    "language_info": {
      "name": "python"
    },
    "accelerator": "GPU",
    "gpuClass": "standard"
  },
  "cells": [
    {
      "cell_type": "markdown",
      "metadata": {
        "id": "view-in-github",
        "colab_type": "text"
      },
      "source": [
        "<a href=\"https://colab.research.google.com/github/samirapakravan/ComputerVision/blob/main/UNET.ipynb\" target=\"_parent\"><img src=\"https://colab.research.google.com/assets/colab-badge.svg\" alt=\"Open In Colab\"/></a>"
      ]
    },
    {
      "cell_type": "markdown",
      "source": [
        "https://www.youtube.com/watch?v=u1loyDCoGbE"
      ],
      "metadata": {
        "id": "iaMlNJBS6q2H"
      }
    },
    {
      "cell_type": "markdown",
      "source": [
        "![Unet.png](data:image/png;base64,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)"
      ],
      "metadata": {
        "id": "3H79pZaP57T2"
      }
    },
    {
      "cell_type": "code",
      "source": [],
      "metadata": {
        "id": "UnMWSWz56VfY"
      },
      "execution_count": null,
      "outputs": []
    },
    {
      "cell_type": "code",
      "source": [
        "import torch \n",
        "import torch.nn as nn\n",
        "import torch.nn.functional as F\n",
        "\n",
        "import numpy as np\n",
        "import matplotlib.pyplot as plt\n"
      ],
      "metadata": {
        "id": "2_g56GLD6q-X"
      },
      "execution_count": null,
      "outputs": []
    },
    {
      "cell_type": "code",
      "source": [
        "def double_conv(in_c, out_c):\n",
        "  conv = nn.Sequential(\n",
        "      nn.Conv2d(in_c, out_c, kernel_size=3),\n",
        "      nn.ReLU(inplace=True),\n",
        "      nn.Conv2d(out_c, out_c, kernel_size=3),\n",
        "      nn.ReLU(inplace=True)\n",
        "  )\n",
        "  return conv\n",
        "\n",
        "def crop_image(original_tensor, target_tensor):\n",
        "  taret_size = target_tensor.size()[2] #channel [0], batch[1], w[2], h[3] either 2 or 3\n",
        "  original_size = original_tensor.size()[2]\n",
        "  delta = (original_size - taret_size)//2 # since we are cropping so orig is always larger than target\n",
        "  return original_tensor[:,:, delta:original_size-delta, delta:original_size-delta]\n",
        "\n",
        "class UNet(nn.Module):\n",
        "  def __init__(self):\n",
        "    super().__init__()\n",
        "\n",
        "    self.max_pool_2x2 = nn.MaxPool2d(kernel_size=2,stride=2)\n",
        "    self.down_conv_1 = double_conv(1, 64)\n",
        "    self.down_conv_2 = double_conv(64, 128)\n",
        "    self.down_conv_3 = double_conv(128, 256)\n",
        "    self.down_conv_4 = double_conv(256, 512)\n",
        "    self.down_conv_5 = double_conv(512, 1024)\n",
        "\n",
        "    self.up_trans_1 = nn.ConvTranspose2d(in_channels=1024, out_channels=512, kernel_size=2,stride=2)\n",
        "    self.up_conv_1 = double_conv(1024,512)\n",
        "    self.up_trans_2 = nn.ConvTranspose2d(in_channels=512, out_channels=256, kernel_size=2,stride=2)\n",
        "    self.up_conv_2 = double_conv(512,256)\n",
        "    self.up_trans_3 = nn.ConvTranspose2d(in_channels=256, out_channels=128, kernel_size=2,stride=2)\n",
        "    self.up_conv_3 = double_conv(256,128)\n",
        "    self.up_trans_4 = nn.ConvTranspose2d(in_channels=128, out_channels=64, kernel_size=2,stride=2)\n",
        "    self.up_conv_4 = double_conv(128,64)\n",
        "\n",
        "    self.out = nn.Conv2d(in_channels=64, out_channels=2, kernel_size=1)\n",
        "\n",
        "  def forward(self, X):\n",
        "\n",
        "    # Encoder\n",
        "    X1 = self.down_conv_1(X)   #\n",
        "    X2 = self.max_pool_2x2(X1)\n",
        "    X3 = self.down_conv_2(X2)  #\n",
        "    X4 = self.max_pool_2x2(X3)\n",
        "    X5 = self.down_conv_3(X4)  #\n",
        "    X6 = self.max_pool_2x2(X5)\n",
        "    X7 = self.down_conv_4(X6)  #\n",
        "    X8 = self.max_pool_2x2(X7)\n",
        "    X9 = self.down_conv_5(X8) \n",
        "\n",
        "    # Decoder \n",
        "    X = self.up_trans_1(X9)\n",
        "    X7_new = crop_image(X7,X)\n",
        "    X = self.up_conv_1(torch.cat([X,X7_new], 1))\n",
        "\n",
        "    X = self.up_trans_2(X)\n",
        "    X5_new = crop_image(X5,X)\n",
        "    X = self.up_conv_2(torch.cat([X,X5_new], 1))\n",
        "\n",
        "    X = self.up_trans_3(X)\n",
        "    X3_new = crop_image(X3,X)\n",
        "    X = self.up_conv_3(torch.cat([X,X3_new], 1))\n",
        "\n",
        "    X = self.up_trans_4(X)\n",
        "    X1_new = crop_image(X1,X)\n",
        "    X = self.up_conv_4(torch.cat([X,X1_new], 1))\n",
        "\n",
        "    print(X.size())\n",
        "    \n",
        "\n",
        "    #return X\n",
        "  "
      ],
      "metadata": {
        "id": "iooxDS2M7EI8"
      },
      "execution_count": null,
      "outputs": []
    },
    {
      "cell_type": "code",
      "source": [
        "image = torch.rand((1,1,572,572))  # (bach, channel, height, weight)\n",
        "model = UNet()\n",
        "print(model(image))"
      ],
      "metadata": {
        "colab": {
          "base_uri": "https://localhost:8080/"
        },
        "id": "zcTKvEruPvkR",
        "outputId": "1aef8184-b55c-47e1-fa6c-29a1a88eca35"
      },
      "execution_count": null,
      "outputs": [
        {
          "output_type": "stream",
          "name": "stdout",
          "text": [
            "torch.Size([1, 64, 388, 388])\n",
            "None\n"
          ]
        }
      ]
    },
    {
      "cell_type": "code",
      "source": [],
      "metadata": {
        "id": "IgeITHjdi0Ra"
      },
      "execution_count": null,
      "outputs": []
    }
  ]
}